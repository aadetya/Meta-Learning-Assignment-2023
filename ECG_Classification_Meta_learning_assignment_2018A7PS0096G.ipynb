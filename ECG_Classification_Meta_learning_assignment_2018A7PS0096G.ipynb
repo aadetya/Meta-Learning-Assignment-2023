{
  "nbformat": 4,
  "nbformat_minor": 0,
  "metadata": {
    "colab": {
      "provenance": []
    },
    "kernelspec": {
      "name": "python3",
      "display_name": "Python 3"
    },
    "language_info": {
      "name": "python"
    },
    "accelerator": "GPU",
    "gpuClass": "standard"
  },
  "cells": [
    {
      "cell_type": "markdown",
      "source": [
        "##Importing necessary libraries"
      ],
      "metadata": {
        "id": "v0iq5WlH298k"
      }
    },
    {
      "cell_type": "code",
      "execution_count": 1,
      "metadata": {
        "id": "LwuLasQz2pkK"
      },
      "outputs": [],
      "source": [
        "import pandas as pd\n",
        "import numpy as np\n",
        "import matplotlib.pyplot as plt"
      ]
    },
    {
      "cell_type": "markdown",
      "source": [
        "## Reading csv file "
      ],
      "metadata": {
        "id": "SOIZGFlb3FGr"
      }
    },
    {
      "cell_type": "code",
      "source": [
        "df = pd.read_csv(\"/content/drive/MyDrive/meta learning assignment/physionet_A_N.csv\",header=None,index_col=None,low_memory=False)\n",
        "df = df.drop(0)\n",
        "signals_df = df.loc[:,0:269]\n",
        "labels_df = df.loc[:,270]"
      ],
      "metadata": {
        "id": "VCElNDpC36lx"
      },
      "execution_count": 2,
      "outputs": []
    },
    {
      "cell_type": "markdown",
      "source": [
        "## Features column stored as signals_df"
      ],
      "metadata": {
        "id": "bv0j52pw3Y8A"
      }
    },
    {
      "cell_type": "code",
      "source": [
        "signals_df = signals_df.astype(str).astype(float)\n",
        "print(signals_df.info())\n",
        "signals_df"
      ],
      "metadata": {
        "colab": {
          "base_uri": "https://localhost:8080/",
          "height": 534
        },
        "id": "6oA7hSYc4Kre",
        "outputId": "d2806c8e-3db1-496a-ce24-f5a4c47ceaf4"
      },
      "execution_count": 3,
      "outputs": [
        {
          "output_type": "stream",
          "name": "stdout",
          "text": [
            "<class 'pandas.core.frame.DataFrame'>\n",
            "Int64Index: 18370 entries, 1 to 18370\n",
            "Columns: 270 entries, 0 to 269\n",
            "dtypes: float64(270)\n",
            "memory usage: 38.0 MB\n",
            "None\n"
          ]
        },
        {
          "output_type": "execute_result",
          "data": {
            "text/plain": [
              "         0      1      2      3      4       5      6      7      8      9    \\\n",
              "1     -127.0 -267.0 -241.0 -229.0 -215.0  -201.0 -253.0 -273.0 -226.0 -172.0   \n",
              "2      -41.0  663.0  -39.0 -113.0  -81.0   -67.0  -45.0   34.0   82.0   62.0   \n",
              "3        7.0    7.0   12.0   18.0   36.0    80.0    0.0  -19.0  418.0  248.0   \n",
              "4      128.0  268.0  244.0  209.0  194.0   234.0  203.0  188.0  211.0  228.0   \n",
              "5       13.0   54.0   80.0   56.0  -36.0  1469.0 -199.0 -180.0 -177.0 -126.0   \n",
              "...      ...    ...    ...    ...    ...     ...    ...    ...    ...    ...   \n",
              "18366  535.0 -186.0  -56.0  -37.0   51.0   156.0  188.0  -46.0 -108.0 -119.0   \n",
              "18367 -278.0 -456.0 -410.0 -372.0 -295.0  -169.0 -117.0 -103.0 -187.0 -159.0   \n",
              "18368  -45.0  -56.0  -69.0  -62.0 -474.0    28.0  -24.0  -24.0  -26.0  -14.0   \n",
              "18369  -26.0  -13.0   63.0   20.0   -3.0   -21.0  -19.0  -82.0 -163.0 -239.0   \n",
              "18370    5.0  -70.0  -95.0 -185.0 -122.0    62.0   79.0   87.0   97.0   43.0   \n",
              "\n",
              "       ...    260   261   262    263    264    265    266     267    268  \\\n",
              "1      ...  -26.0 -29.0 -22.0  -19.0  -22.0  -43.0  -53.0   -23.0   22.0   \n",
              "2      ...  -88.0 -22.0  42.0  104.0   32.0    2.0    2.0   -13.0  -16.0   \n",
              "3      ...  -27.0 -22.0 -33.0  -31.0  -34.0  -11.0    1.0    -8.0   12.0   \n",
              "4      ...    1.0 -70.0 -62.0  -44.0  393.0  -74.0  -84.0   -65.0  -30.0   \n",
              "5      ...    0.0 -15.0 -37.0  -50.0  -21.0   30.0   17.0  1571.0 -165.0   \n",
              "...    ...    ...   ...   ...    ...    ...    ...    ...     ...    ...   \n",
              "18366  ... -352.0 -44.0   5.0    1.0   78.0  137.0   46.0   -45.0  -29.0   \n",
              "18367  ...  -38.0   7.0 -53.0  -72.0  -53.0  -13.0  358.0  -272.0  -15.0   \n",
              "18368  ...   32.0  49.0  50.0   32.0   23.0   46.0   46.0    27.0   -5.0   \n",
              "18369  ...   61.0  15.0  37.0   30.0  137.0 -928.0   95.0    50.0   34.0   \n",
              "18370  ...   65.0 -36.0  30.0   63.0   76.0   66.0   60.0    19.0  -26.0   \n",
              "\n",
              "         269  \n",
              "1      -31.0  \n",
              "2        6.0  \n",
              "3       62.0  \n",
              "4       -6.0  \n",
              "5     -201.0  \n",
              "...      ...  \n",
              "18366  -33.0  \n",
              "18367   21.0  \n",
              "18368   51.0  \n",
              "18369   36.0  \n",
              "18370  -40.0  \n",
              "\n",
              "[18370 rows x 270 columns]"
            ],
            "text/html": [
              "\n",
              "  <div id=\"df-616c5c77-9b46-4c26-926c-273b566b5255\">\n",
              "    <div class=\"colab-df-container\">\n",
              "      <div>\n",
              "<style scoped>\n",
              "    .dataframe tbody tr th:only-of-type {\n",
              "        vertical-align: middle;\n",
              "    }\n",
              "\n",
              "    .dataframe tbody tr th {\n",
              "        vertical-align: top;\n",
              "    }\n",
              "\n",
              "    .dataframe thead th {\n",
              "        text-align: right;\n",
              "    }\n",
              "</style>\n",
              "<table border=\"1\" class=\"dataframe\">\n",
              "  <thead>\n",
              "    <tr style=\"text-align: right;\">\n",
              "      <th></th>\n",
              "      <th>0</th>\n",
              "      <th>1</th>\n",
              "      <th>2</th>\n",
              "      <th>3</th>\n",
              "      <th>4</th>\n",
              "      <th>5</th>\n",
              "      <th>6</th>\n",
              "      <th>7</th>\n",
              "      <th>8</th>\n",
              "      <th>9</th>\n",
              "      <th>...</th>\n",
              "      <th>260</th>\n",
              "      <th>261</th>\n",
              "      <th>262</th>\n",
              "      <th>263</th>\n",
              "      <th>264</th>\n",
              "      <th>265</th>\n",
              "      <th>266</th>\n",
              "      <th>267</th>\n",
              "      <th>268</th>\n",
              "      <th>269</th>\n",
              "    </tr>\n",
              "  </thead>\n",
              "  <tbody>\n",
              "    <tr>\n",
              "      <th>1</th>\n",
              "      <td>-127.0</td>\n",
              "      <td>-267.0</td>\n",
              "      <td>-241.0</td>\n",
              "      <td>-229.0</td>\n",
              "      <td>-215.0</td>\n",
              "      <td>-201.0</td>\n",
              "      <td>-253.0</td>\n",
              "      <td>-273.0</td>\n",
              "      <td>-226.0</td>\n",
              "      <td>-172.0</td>\n",
              "      <td>...</td>\n",
              "      <td>-26.0</td>\n",
              "      <td>-29.0</td>\n",
              "      <td>-22.0</td>\n",
              "      <td>-19.0</td>\n",
              "      <td>-22.0</td>\n",
              "      <td>-43.0</td>\n",
              "      <td>-53.0</td>\n",
              "      <td>-23.0</td>\n",
              "      <td>22.0</td>\n",
              "      <td>-31.0</td>\n",
              "    </tr>\n",
              "    <tr>\n",
              "      <th>2</th>\n",
              "      <td>-41.0</td>\n",
              "      <td>663.0</td>\n",
              "      <td>-39.0</td>\n",
              "      <td>-113.0</td>\n",
              "      <td>-81.0</td>\n",
              "      <td>-67.0</td>\n",
              "      <td>-45.0</td>\n",
              "      <td>34.0</td>\n",
              "      <td>82.0</td>\n",
              "      <td>62.0</td>\n",
              "      <td>...</td>\n",
              "      <td>-88.0</td>\n",
              "      <td>-22.0</td>\n",
              "      <td>42.0</td>\n",
              "      <td>104.0</td>\n",
              "      <td>32.0</td>\n",
              "      <td>2.0</td>\n",
              "      <td>2.0</td>\n",
              "      <td>-13.0</td>\n",
              "      <td>-16.0</td>\n",
              "      <td>6.0</td>\n",
              "    </tr>\n",
              "    <tr>\n",
              "      <th>3</th>\n",
              "      <td>7.0</td>\n",
              "      <td>7.0</td>\n",
              "      <td>12.0</td>\n",
              "      <td>18.0</td>\n",
              "      <td>36.0</td>\n",
              "      <td>80.0</td>\n",
              "      <td>0.0</td>\n",
              "      <td>-19.0</td>\n",
              "      <td>418.0</td>\n",
              "      <td>248.0</td>\n",
              "      <td>...</td>\n",
              "      <td>-27.0</td>\n",
              "      <td>-22.0</td>\n",
              "      <td>-33.0</td>\n",
              "      <td>-31.0</td>\n",
              "      <td>-34.0</td>\n",
              "      <td>-11.0</td>\n",
              "      <td>1.0</td>\n",
              "      <td>-8.0</td>\n",
              "      <td>12.0</td>\n",
              "      <td>62.0</td>\n",
              "    </tr>\n",
              "    <tr>\n",
              "      <th>4</th>\n",
              "      <td>128.0</td>\n",
              "      <td>268.0</td>\n",
              "      <td>244.0</td>\n",
              "      <td>209.0</td>\n",
              "      <td>194.0</td>\n",
              "      <td>234.0</td>\n",
              "      <td>203.0</td>\n",
              "      <td>188.0</td>\n",
              "      <td>211.0</td>\n",
              "      <td>228.0</td>\n",
              "      <td>...</td>\n",
              "      <td>1.0</td>\n",
              "      <td>-70.0</td>\n",
              "      <td>-62.0</td>\n",
              "      <td>-44.0</td>\n",
              "      <td>393.0</td>\n",
              "      <td>-74.0</td>\n",
              "      <td>-84.0</td>\n",
              "      <td>-65.0</td>\n",
              "      <td>-30.0</td>\n",
              "      <td>-6.0</td>\n",
              "    </tr>\n",
              "    <tr>\n",
              "      <th>5</th>\n",
              "      <td>13.0</td>\n",
              "      <td>54.0</td>\n",
              "      <td>80.0</td>\n",
              "      <td>56.0</td>\n",
              "      <td>-36.0</td>\n",
              "      <td>1469.0</td>\n",
              "      <td>-199.0</td>\n",
              "      <td>-180.0</td>\n",
              "      <td>-177.0</td>\n",
              "      <td>-126.0</td>\n",
              "      <td>...</td>\n",
              "      <td>0.0</td>\n",
              "      <td>-15.0</td>\n",
              "      <td>-37.0</td>\n",
              "      <td>-50.0</td>\n",
              "      <td>-21.0</td>\n",
              "      <td>30.0</td>\n",
              "      <td>17.0</td>\n",
              "      <td>1571.0</td>\n",
              "      <td>-165.0</td>\n",
              "      <td>-201.0</td>\n",
              "    </tr>\n",
              "    <tr>\n",
              "      <th>...</th>\n",
              "      <td>...</td>\n",
              "      <td>...</td>\n",
              "      <td>...</td>\n",
              "      <td>...</td>\n",
              "      <td>...</td>\n",
              "      <td>...</td>\n",
              "      <td>...</td>\n",
              "      <td>...</td>\n",
              "      <td>...</td>\n",
              "      <td>...</td>\n",
              "      <td>...</td>\n",
              "      <td>...</td>\n",
              "      <td>...</td>\n",
              "      <td>...</td>\n",
              "      <td>...</td>\n",
              "      <td>...</td>\n",
              "      <td>...</td>\n",
              "      <td>...</td>\n",
              "      <td>...</td>\n",
              "      <td>...</td>\n",
              "      <td>...</td>\n",
              "    </tr>\n",
              "    <tr>\n",
              "      <th>18366</th>\n",
              "      <td>535.0</td>\n",
              "      <td>-186.0</td>\n",
              "      <td>-56.0</td>\n",
              "      <td>-37.0</td>\n",
              "      <td>51.0</td>\n",
              "      <td>156.0</td>\n",
              "      <td>188.0</td>\n",
              "      <td>-46.0</td>\n",
              "      <td>-108.0</td>\n",
              "      <td>-119.0</td>\n",
              "      <td>...</td>\n",
              "      <td>-352.0</td>\n",
              "      <td>-44.0</td>\n",
              "      <td>5.0</td>\n",
              "      <td>1.0</td>\n",
              "      <td>78.0</td>\n",
              "      <td>137.0</td>\n",
              "      <td>46.0</td>\n",
              "      <td>-45.0</td>\n",
              "      <td>-29.0</td>\n",
              "      <td>-33.0</td>\n",
              "    </tr>\n",
              "    <tr>\n",
              "      <th>18367</th>\n",
              "      <td>-278.0</td>\n",
              "      <td>-456.0</td>\n",
              "      <td>-410.0</td>\n",
              "      <td>-372.0</td>\n",
              "      <td>-295.0</td>\n",
              "      <td>-169.0</td>\n",
              "      <td>-117.0</td>\n",
              "      <td>-103.0</td>\n",
              "      <td>-187.0</td>\n",
              "      <td>-159.0</td>\n",
              "      <td>...</td>\n",
              "      <td>-38.0</td>\n",
              "      <td>7.0</td>\n",
              "      <td>-53.0</td>\n",
              "      <td>-72.0</td>\n",
              "      <td>-53.0</td>\n",
              "      <td>-13.0</td>\n",
              "      <td>358.0</td>\n",
              "      <td>-272.0</td>\n",
              "      <td>-15.0</td>\n",
              "      <td>21.0</td>\n",
              "    </tr>\n",
              "    <tr>\n",
              "      <th>18368</th>\n",
              "      <td>-45.0</td>\n",
              "      <td>-56.0</td>\n",
              "      <td>-69.0</td>\n",
              "      <td>-62.0</td>\n",
              "      <td>-474.0</td>\n",
              "      <td>28.0</td>\n",
              "      <td>-24.0</td>\n",
              "      <td>-24.0</td>\n",
              "      <td>-26.0</td>\n",
              "      <td>-14.0</td>\n",
              "      <td>...</td>\n",
              "      <td>32.0</td>\n",
              "      <td>49.0</td>\n",
              "      <td>50.0</td>\n",
              "      <td>32.0</td>\n",
              "      <td>23.0</td>\n",
              "      <td>46.0</td>\n",
              "      <td>46.0</td>\n",
              "      <td>27.0</td>\n",
              "      <td>-5.0</td>\n",
              "      <td>51.0</td>\n",
              "    </tr>\n",
              "    <tr>\n",
              "      <th>18369</th>\n",
              "      <td>-26.0</td>\n",
              "      <td>-13.0</td>\n",
              "      <td>63.0</td>\n",
              "      <td>20.0</td>\n",
              "      <td>-3.0</td>\n",
              "      <td>-21.0</td>\n",
              "      <td>-19.0</td>\n",
              "      <td>-82.0</td>\n",
              "      <td>-163.0</td>\n",
              "      <td>-239.0</td>\n",
              "      <td>...</td>\n",
              "      <td>61.0</td>\n",
              "      <td>15.0</td>\n",
              "      <td>37.0</td>\n",
              "      <td>30.0</td>\n",
              "      <td>137.0</td>\n",
              "      <td>-928.0</td>\n",
              "      <td>95.0</td>\n",
              "      <td>50.0</td>\n",
              "      <td>34.0</td>\n",
              "      <td>36.0</td>\n",
              "    </tr>\n",
              "    <tr>\n",
              "      <th>18370</th>\n",
              "      <td>5.0</td>\n",
              "      <td>-70.0</td>\n",
              "      <td>-95.0</td>\n",
              "      <td>-185.0</td>\n",
              "      <td>-122.0</td>\n",
              "      <td>62.0</td>\n",
              "      <td>79.0</td>\n",
              "      <td>87.0</td>\n",
              "      <td>97.0</td>\n",
              "      <td>43.0</td>\n",
              "      <td>...</td>\n",
              "      <td>65.0</td>\n",
              "      <td>-36.0</td>\n",
              "      <td>30.0</td>\n",
              "      <td>63.0</td>\n",
              "      <td>76.0</td>\n",
              "      <td>66.0</td>\n",
              "      <td>60.0</td>\n",
              "      <td>19.0</td>\n",
              "      <td>-26.0</td>\n",
              "      <td>-40.0</td>\n",
              "    </tr>\n",
              "  </tbody>\n",
              "</table>\n",
              "<p>18370 rows × 270 columns</p>\n",
              "</div>\n",
              "      <button class=\"colab-df-convert\" onclick=\"convertToInteractive('df-616c5c77-9b46-4c26-926c-273b566b5255')\"\n",
              "              title=\"Convert this dataframe to an interactive table.\"\n",
              "              style=\"display:none;\">\n",
              "        \n",
              "  <svg xmlns=\"http://www.w3.org/2000/svg\" height=\"24px\"viewBox=\"0 0 24 24\"\n",
              "       width=\"24px\">\n",
              "    <path d=\"M0 0h24v24H0V0z\" fill=\"none\"/>\n",
              "    <path d=\"M18.56 5.44l.94 2.06.94-2.06 2.06-.94-2.06-.94-.94-2.06-.94 2.06-2.06.94zm-11 1L8.5 8.5l.94-2.06 2.06-.94-2.06-.94L8.5 2.5l-.94 2.06-2.06.94zm10 10l.94 2.06.94-2.06 2.06-.94-2.06-.94-.94-2.06-.94 2.06-2.06.94z\"/><path d=\"M17.41 7.96l-1.37-1.37c-.4-.4-.92-.59-1.43-.59-.52 0-1.04.2-1.43.59L10.3 9.45l-7.72 7.72c-.78.78-.78 2.05 0 2.83L4 21.41c.39.39.9.59 1.41.59.51 0 1.02-.2 1.41-.59l7.78-7.78 2.81-2.81c.8-.78.8-2.07 0-2.86zM5.41 20L4 18.59l7.72-7.72 1.47 1.35L5.41 20z\"/>\n",
              "  </svg>\n",
              "      </button>\n",
              "      \n",
              "  <style>\n",
              "    .colab-df-container {\n",
              "      display:flex;\n",
              "      flex-wrap:wrap;\n",
              "      gap: 12px;\n",
              "    }\n",
              "\n",
              "    .colab-df-convert {\n",
              "      background-color: #E8F0FE;\n",
              "      border: none;\n",
              "      border-radius: 50%;\n",
              "      cursor: pointer;\n",
              "      display: none;\n",
              "      fill: #1967D2;\n",
              "      height: 32px;\n",
              "      padding: 0 0 0 0;\n",
              "      width: 32px;\n",
              "    }\n",
              "\n",
              "    .colab-df-convert:hover {\n",
              "      background-color: #E2EBFA;\n",
              "      box-shadow: 0px 1px 2px rgba(60, 64, 67, 0.3), 0px 1px 3px 1px rgba(60, 64, 67, 0.15);\n",
              "      fill: #174EA6;\n",
              "    }\n",
              "\n",
              "    [theme=dark] .colab-df-convert {\n",
              "      background-color: #3B4455;\n",
              "      fill: #D2E3FC;\n",
              "    }\n",
              "\n",
              "    [theme=dark] .colab-df-convert:hover {\n",
              "      background-color: #434B5C;\n",
              "      box-shadow: 0px 1px 3px 1px rgba(0, 0, 0, 0.15);\n",
              "      filter: drop-shadow(0px 1px 2px rgba(0, 0, 0, 0.3));\n",
              "      fill: #FFFFFF;\n",
              "    }\n",
              "  </style>\n",
              "\n",
              "      <script>\n",
              "        const buttonEl =\n",
              "          document.querySelector('#df-616c5c77-9b46-4c26-926c-273b566b5255 button.colab-df-convert');\n",
              "        buttonEl.style.display =\n",
              "          google.colab.kernel.accessAllowed ? 'block' : 'none';\n",
              "\n",
              "        async function convertToInteractive(key) {\n",
              "          const element = document.querySelector('#df-616c5c77-9b46-4c26-926c-273b566b5255');\n",
              "          const dataTable =\n",
              "            await google.colab.kernel.invokeFunction('convertToInteractive',\n",
              "                                                     [key], {});\n",
              "          if (!dataTable) return;\n",
              "\n",
              "          const docLinkHtml = 'Like what you see? Visit the ' +\n",
              "            '<a target=\"_blank\" href=https://colab.research.google.com/notebooks/data_table.ipynb>data table notebook</a>'\n",
              "            + ' to learn more about interactive tables.';\n",
              "          element.innerHTML = '';\n",
              "          dataTable['output_type'] = 'display_data';\n",
              "          await google.colab.output.renderOutput(dataTable, element);\n",
              "          const docLink = document.createElement('div');\n",
              "          docLink.innerHTML = docLinkHtml;\n",
              "          element.appendChild(docLink);\n",
              "        }\n",
              "      </script>\n",
              "    </div>\n",
              "  </div>\n",
              "  "
            ]
          },
          "metadata": {},
          "execution_count": 3
        }
      ]
    },
    {
      "cell_type": "markdown",
      "source": [
        "## Labels stored as labels_df"
      ],
      "metadata": {
        "id": "ZnvI2yHR3n9g"
      }
    },
    {
      "cell_type": "code",
      "source": [
        "labels_df"
      ],
      "metadata": {
        "colab": {
          "base_uri": "https://localhost:8080/"
        },
        "id": "X9JPDmYTJIol",
        "outputId": "37349cd8-b6a7-4863-a664-8e71e273d61d"
      },
      "execution_count": 4,
      "outputs": [
        {
          "output_type": "execute_result",
          "data": {
            "text/plain": [
              "1        N\n",
              "2        N\n",
              "3        N\n",
              "4        N\n",
              "5        N\n",
              "        ..\n",
              "18366    A\n",
              "18367    A\n",
              "18368    A\n",
              "18369    A\n",
              "18370    A\n",
              "Name: 270, Length: 18370, dtype: object"
            ]
          },
          "metadata": {},
          "execution_count": 4
        }
      ]
    },
    {
      "cell_type": "markdown",
      "source": [
        "## Splitting dataset into training (75%), validation (15%) and test set (15%)"
      ],
      "metadata": {
        "id": "RjFIhEwwI-SL"
      }
    },
    {
      "cell_type": "code",
      "source": [
        "from sklearn.model_selection import train_test_split\n",
        "\n",
        "x, x_test, y, y_test = train_test_split(signals_df,labels_df,test_size=0.15,train_size=0.85,stratify=labels_df)\n",
        "x_train, x_cv, y_train, y_cv = train_test_split(x,y,test_size = 0.15,train_size =0.85,stratify=y)"
      ],
      "metadata": {
        "id": "zqxYbtN54P0N"
      },
      "execution_count": 5,
      "outputs": []
    },
    {
      "cell_type": "code",
      "source": [
        "print(y_train.value_counts())\n",
        "print(y_cv.value_counts())\n",
        "print(y_test.value_counts())"
      ],
      "metadata": {
        "colab": {
          "base_uri": "https://localhost:8080/"
        },
        "id": "omamXdI-TjxB",
        "outputId": "26e6f6fe-a1a1-42b7-96de-97fade63316c"
      },
      "execution_count": 6,
      "outputs": [
        {
          "output_type": "stream",
          "name": "stdout",
          "text": [
            "N    11580\n",
            "A     1691\n",
            "Name: 270, dtype: int64\n",
            "N    2045\n",
            "A     298\n",
            "Name: 270, dtype: int64\n",
            "N    2405\n",
            "A     351\n",
            "Name: 270, dtype: int64\n"
          ]
        }
      ]
    },
    {
      "cell_type": "code",
      "source": [
        "training_set = x_train.to_numpy()\n",
        "training_labels = y_train.to_numpy()\n",
        "\n",
        "validation_set = x_cv.to_numpy()\n",
        "validation_labels = y_cv.to_numpy()\n",
        "\n",
        "test_set = x_test.to_numpy()\n",
        "test_labels = y_test.to_numpy()"
      ],
      "metadata": {
        "id": "4Y8WnFBSWh-S"
      },
      "execution_count": 7,
      "outputs": []
    },
    {
      "cell_type": "markdown",
      "source": [
        "## Scaling all the feature input columns"
      ],
      "metadata": {
        "id": "OMjX3xbCJfWn"
      }
    },
    {
      "cell_type": "code",
      "source": [
        "from sklearn.preprocessing import StandardScaler\n",
        "from sklearn.preprocessing import LabelEncoder"
      ],
      "metadata": {
        "id": "CCnuWhLQZWNH"
      },
      "execution_count": 8,
      "outputs": []
    },
    {
      "cell_type": "code",
      "source": [
        "scaler = StandardScaler()\n",
        "training_set = scaler.fit_transform(training_set)\n",
        "validation_set = scaler.transform(validation_set)\n",
        "test_set = scaler.transform(test_set)"
      ],
      "metadata": {
        "id": "7Cjo9Sq0Wqxm"
      },
      "execution_count": 9,
      "outputs": []
    },
    {
      "cell_type": "code",
      "source": [
        "training_set"
      ],
      "metadata": {
        "colab": {
          "base_uri": "https://localhost:8080/"
        },
        "id": "6eAXtqbqZ6HR",
        "outputId": "ca140f0a-90cb-4955-b77c-836f1d1c3892"
      },
      "execution_count": 10,
      "outputs": [
        {
          "output_type": "execute_result",
          "data": {
            "text/plain": [
              "array([[ 0.18791087,  0.18905148,  0.337002  , ..., -0.97037392,\n",
              "        -1.0913555 , -0.8626353 ],\n",
              "       [ 0.54771338,  0.31864168,  0.31689147, ...,  0.20630663,\n",
              "        -0.03695539, -0.18173165],\n",
              "       [ 0.54771338,  0.10265802, -0.02247376, ..., -0.25935844,\n",
              "        -0.30955639, -0.25795221],\n",
              "       ...,\n",
              "       [ 0.64786459,  0.86340048,  0.77691989, ...,  0.11617791,\n",
              "        -0.06781588, -0.32401002],\n",
              "       [-0.35735684, -0.26451421, -0.25123106, ...,  0.33148541,\n",
              "         0.69855298,  1.08352961],\n",
              "       [ 0.05808523,  0.03786292, -0.1054297 , ...,  0.8572363 ,\n",
              "         1.11516961,  0.76848464]])"
            ]
          },
          "metadata": {},
          "execution_count": 10
        }
      ]
    },
    {
      "cell_type": "markdown",
      "source": [
        "## Label encoding target column"
      ],
      "metadata": {
        "id": "KnBSizgYJr8_"
      }
    },
    {
      "cell_type": "code",
      "source": [
        "encoder = LabelEncoder()"
      ],
      "metadata": {
        "id": "d_Uucs96bEu1"
      },
      "execution_count": 11,
      "outputs": []
    },
    {
      "cell_type": "code",
      "source": [
        "training_labels = encoder.fit_transform(training_labels)\n",
        "validation_labels = encoder.transform(validation_labels)\n",
        "test_labels = encoder.transform(test_labels)"
      ],
      "metadata": {
        "id": "ES6wpCJaaHZn"
      },
      "execution_count": 12,
      "outputs": []
    },
    {
      "cell_type": "markdown",
      "source": [
        "## One hot encoding target column "
      ],
      "metadata": {
        "id": "nmfaOe_lJ2Vm"
      }
    },
    {
      "cell_type": "code",
      "source": [
        "from keras.utils.np_utils import to_categorical"
      ],
      "metadata": {
        "id": "L2X4aMJu_W4D"
      },
      "execution_count": 13,
      "outputs": []
    },
    {
      "cell_type": "code",
      "source": [
        "training_labels = to_categorical(training_labels)\n",
        "validation_labels = to_categorical(validation_labels)\n",
        "test_labels = to_categorical(test_labels)"
      ],
      "metadata": {
        "id": "lUPZnnaW_krM"
      },
      "execution_count": 14,
      "outputs": []
    },
    {
      "cell_type": "markdown",
      "source": [
        "## Network architecture"
      ],
      "metadata": {
        "id": "PP2cZgNNKP8l"
      }
    },
    {
      "cell_type": "code",
      "source": [
        "from keras.optimizers import Adam\n",
        "from keras.callbacks import LearningRateScheduler, ModelCheckpoint\n",
        "import math"
      ],
      "metadata": {
        "id": "s-UHWNl0I9dC"
      },
      "execution_count": 15,
      "outputs": []
    },
    {
      "cell_type": "code",
      "source": [
        "def exp_decay(epoch,lr):\n",
        "    if(epoch<=5):\n",
        "      return 0.001\n",
        "    k = 0.75\n",
        "    t = 115394/(10000 * 32)  # every epoch we do n_obs/batch_size iteration\n",
        "    lr = lr * math.exp(-k*t)\n",
        "    return lr\n",
        "\n",
        "lrate = LearningRateScheduler(exp_decay,verbose=1)\n",
        "\n"
      ],
      "metadata": {
        "id": "bOnRBycuJI-j"
      },
      "execution_count": 79,
      "outputs": []
    },
    {
      "cell_type": "code",
      "source": [
        "def network(X_train,y_train,X_test,y_test):\n",
        "    \n",
        "    im_shape=(X_train.shape[1],1)\n",
        "    inputs_cnn=Input(shape=(im_shape), name='inputs_cnn')\n",
        "    conv1_1=Convolution1D(64, (6), activation='relu', input_shape=im_shape)(inputs_cnn)\n",
        "    conv1_1=BatchNormalization()(conv1_1)\n",
        "    pool1=MaxPool1D(pool_size=(3), strides=(2), padding=\"same\")(conv1_1)\n",
        "    conv2_1=Convolution1D(64, (3), activation='relu', input_shape=im_shape)(pool1)\n",
        "    conv2_1=BatchNormalization()(conv2_1)\n",
        "    pool2=MaxPool1D(pool_size=(2), strides=(2), padding=\"same\")(conv2_1)\n",
        "    conv3_1=Convolution1D(64, (3), activation='relu', input_shape=im_shape)(pool2)\n",
        "    conv3_1=BatchNormalization()(conv3_1)\n",
        "    pool3=MaxPool1D(pool_size=(2), strides=(2), padding=\"same\")(conv3_1)\n",
        "    flatten=Flatten()(pool3)\n",
        "    dense_end1 = Dense(64, activation='relu')(flatten)\n",
        "    dense_end2 = Dense(32, activation='relu')(dense_end1)\n",
        "    main_output = Dense(2, activation='softmax', name='main_output')(dense_end2)\n",
        "    \n",
        "    \n",
        "    model = Model(inputs= inputs_cnn, outputs=main_output)\n",
        "    adam = Adam(lr = 0.001, beta_1 = 0.9, beta_2 = 0.999)\n",
        "    model.compile(optimizer=adam, loss='categorical_crossentropy',metrics = ['accuracy'])\n",
        "    \n",
        "    \n",
        "    callbacks = [EarlyStopping(monitor='val_loss', patience=10),\n",
        "             ModelCheckpoint(filepath='best_model.h5', monitor='val_loss', save_best_only=True), lrate]\n",
        "\n",
        "    history=model.fit(X_train, y_train,epochs=40,callbacks=callbacks, batch_size=32,validation_data=(X_test,y_test))\n",
        "    model.load_weights('best_model.h5')\n",
        "    return(model,history)"
      ],
      "metadata": {
        "id": "vWL_03UP_8Es"
      },
      "execution_count": 80,
      "outputs": []
    },
    {
      "cell_type": "code",
      "source": [
        "from keras.layers import Dense, Convolution1D, MaxPool1D, Flatten, Dropout\n",
        "from keras.layers import Input\n",
        "from keras.models import Model\n",
        "from tensorflow.keras.layers import BatchNormalization\n",
        "import keras\n",
        "from keras.callbacks import EarlyStopping, ModelCheckpoint\n",
        "\n",
        "model,history=network(training_set,training_labels,validation_set,validation_labels)"
      ],
      "metadata": {
        "colab": {
          "base_uri": "https://localhost:8080/"
        },
        "id": "bROLiaDQAXIS",
        "outputId": "f29c0e24-5ce0-4cd9-866c-184f19e591c7"
      },
      "execution_count": 87,
      "outputs": [
        {
          "output_type": "stream",
          "name": "stdout",
          "text": [
            "\n",
            "Epoch 1: LearningRateScheduler setting learning rate to 0.001.\n",
            "Epoch 1/40\n"
          ]
        },
        {
          "output_type": "stream",
          "name": "stderr",
          "text": [
            "/usr/local/lib/python3.8/dist-packages/keras/optimizers/optimizer_v2/adam.py:110: UserWarning: The `lr` argument is deprecated, use `learning_rate` instead.\n",
            "  super(Adam, self).__init__(name, **kwargs)\n"
          ]
        },
        {
          "output_type": "stream",
          "name": "stdout",
          "text": [
            "415/415 [==============================] - 4s 8ms/step - loss: 0.2910 - accuracy: 0.9000 - val_loss: 0.2104 - val_accuracy: 0.9134 - lr: 0.0010\n",
            "\n",
            "Epoch 2: LearningRateScheduler setting learning rate to 0.001.\n",
            "Epoch 2/40\n",
            "415/415 [==============================] - 3s 6ms/step - loss: 0.1606 - accuracy: 0.9400 - val_loss: 0.1678 - val_accuracy: 0.9343 - lr: 0.0010\n",
            "\n",
            "Epoch 3: LearningRateScheduler setting learning rate to 0.001.\n",
            "Epoch 3/40\n",
            "415/415 [==============================] - 3s 6ms/step - loss: 0.1227 - accuracy: 0.9529 - val_loss: 0.1489 - val_accuracy: 0.9424 - lr: 0.0010\n",
            "\n",
            "Epoch 4: LearningRateScheduler setting learning rate to 0.001.\n",
            "Epoch 4/40\n",
            "415/415 [==============================] - 3s 6ms/step - loss: 0.0933 - accuracy: 0.9643 - val_loss: 0.1523 - val_accuracy: 0.9492 - lr: 0.0010\n",
            "\n",
            "Epoch 5: LearningRateScheduler setting learning rate to 0.001.\n",
            "Epoch 5/40\n",
            "415/415 [==============================] - 3s 6ms/step - loss: 0.0636 - accuracy: 0.9774 - val_loss: 0.2019 - val_accuracy: 0.9232 - lr: 0.0010\n",
            "\n",
            "Epoch 6: LearningRateScheduler setting learning rate to 0.001.\n",
            "Epoch 6/40\n",
            "415/415 [==============================] - 3s 7ms/step - loss: 0.0529 - accuracy: 0.9805 - val_loss: 0.1728 - val_accuracy: 0.9462 - lr: 0.0010\n",
            "\n",
            "Epoch 7: LearningRateScheduler setting learning rate to 0.0007630325103639752.\n",
            "Epoch 7/40\n",
            "415/415 [==============================] - 3s 6ms/step - loss: 0.0257 - accuracy: 0.9905 - val_loss: 0.2239 - val_accuracy: 0.9351 - lr: 7.6303e-04\n",
            "\n",
            "Epoch 8: LearningRateScheduler setting learning rate to 0.0005822185970456569.\n",
            "Epoch 8/40\n",
            "415/415 [==============================] - 3s 6ms/step - loss: 0.0134 - accuracy: 0.9965 - val_loss: 0.2342 - val_accuracy: 0.9471 - lr: 5.8222e-04\n",
            "\n",
            "Epoch 9: LearningRateScheduler setting learning rate to 0.00044425168176083583.\n",
            "Epoch 9/40\n",
            "415/415 [==============================] - 3s 6ms/step - loss: 0.0085 - accuracy: 0.9975 - val_loss: 0.2482 - val_accuracy: 0.9466 - lr: 4.4425e-04\n",
            "\n",
            "Epoch 10: LearningRateScheduler setting learning rate to 0.00033897846975237803.\n",
            "Epoch 10/40\n",
            "415/415 [==============================] - 3s 6ms/step - loss: 0.0037 - accuracy: 0.9992 - val_loss: 0.2153 - val_accuracy: 0.9552 - lr: 3.3898e-04\n",
            "\n",
            "Epoch 11: LearningRateScheduler setting learning rate to 0.0002586515908182488.\n",
            "Epoch 11/40\n",
            "415/415 [==============================] - 3s 6ms/step - loss: 0.0012 - accuracy: 0.9999 - val_loss: 0.2294 - val_accuracy: 0.9531 - lr: 2.5865e-04\n",
            "\n",
            "Epoch 12: LearningRateScheduler setting learning rate to 0.000197359563522286.\n",
            "Epoch 12/40\n",
            "415/415 [==============================] - 3s 6ms/step - loss: 8.5675e-04 - accuracy: 1.0000 - val_loss: 0.2322 - val_accuracy: 0.9522 - lr: 1.9736e-04\n",
            "\n",
            "Epoch 13: LearningRateScheduler setting learning rate to 0.0001505917567777849.\n",
            "Epoch 13/40\n",
            "415/415 [==============================] - 3s 6ms/step - loss: 8.0216e-04 - accuracy: 0.9998 - val_loss: 0.2334 - val_accuracy: 0.9560 - lr: 1.5059e-04\n"
          ]
        }
      ]
    },
    {
      "cell_type": "markdown",
      "source": [
        "## Model evaluation"
      ],
      "metadata": {
        "id": "ICnV189xLDxb"
      }
    },
    {
      "cell_type": "code",
      "source": [
        "from sklearn.metrics import confusion_matrix\n",
        "\n",
        "def evaluate_model(history,X_test,y_test,model):\n",
        "    scores = model.evaluate((X_test),y_test, verbose=0)\n",
        "    print(\"Accuracy: %.2f%%\" % (scores[1]*100))\n",
        "    \n",
        "    print(history)\n",
        "    fig1, ax_acc = plt.subplots()\n",
        "    plt.plot(history.history['accuracy'])\n",
        "    plt.plot(history.history['val_accuracy'])\n",
        "    plt.xlabel('Epoch')\n",
        "    plt.ylabel('Accuracy')\n",
        "    plt.title('Model - Accuracy')\n",
        "    plt.legend(['Training', 'Validation'], loc='lower right')\n",
        "    plt.show()\n",
        "    \n",
        "    fig2, ax_loss = plt.subplots()\n",
        "    plt.xlabel('Epoch')\n",
        "    plt.ylabel('Loss')\n",
        "    plt.title('Model- Loss')\n",
        "    plt.legend(['Training', 'Validation'], loc='upper right')\n",
        "    plt.plot(history.history['loss'])\n",
        "    plt.plot(history.history['val_loss'])\n",
        "    plt.show()\n",
        "    target_names=['0','1','2','3','4']\n",
        "    \n",
        "    y_true=[]\n",
        "    for element in y_test:\n",
        "        y_true.append(np.argmax(element))\n",
        "    prediction_proba=model.predict(X_test)\n",
        "    prediction=np.argmax(prediction_proba,axis=1)\n",
        "    cnf_matrix = confusion_matrix(y_true, prediction)"
      ],
      "metadata": {
        "id": "F13m_Ri9K5-H"
      },
      "execution_count": 88,
      "outputs": []
    },
    {
      "cell_type": "markdown",
      "source": [
        "### Accuracy on test set: 93.98%"
      ],
      "metadata": {
        "id": "L5Noev9zZfeU"
      }
    },
    {
      "cell_type": "code",
      "source": [
        "evaluate_model(history,test_set,test_labels,model)\n",
        "y_pred=model.predict(test_set)"
      ],
      "metadata": {
        "colab": {
          "base_uri": "https://localhost:8080/",
          "height": 646
        },
        "id": "afpgmx8dIVNw",
        "outputId": "04eefc21-463e-40cc-f787-cf48c51c5cce"
      },
      "execution_count": 89,
      "outputs": [
        {
          "output_type": "stream",
          "name": "stdout",
          "text": [
            "Accuracy: 93.98%\n",
            "<keras.callbacks.History object at 0x7fb6506c4400>\n"
          ]
        },
        {
          "output_type": "display_data",
          "data": {
            "text/plain": [
              "<Figure size 432x288 with 1 Axes>"
            ],
            "image/png": "[encoded data removed]"
          },
          "metadata": {
            "needs_background": "light"
          }
        },
        {
          "output_type": "display_data",
          "data": {
            "text/plain": [
              "<Figure size 432x288 with 1 Axes>"
            ],
            "image/png": "[encoded data removed]"
          },
          "metadata": {
            "needs_background": "light"
          }
        },
        {
          "output_type": "stream",
          "name": "stdout",
          "text": [
            "87/87 [==============================] - 0s 2ms/step\n",
            "87/87 [==============================] - 0s 2ms/step\n"
          ]
        }
      ]
    },
    {
      "cell_type": "markdown",
      "source": [
        "## Plotting Confusion matrix"
      ],
      "metadata": {
        "id": "DqW9GT-xLMzj"
      }
    },
    {
      "cell_type": "code",
      "source": [
        "import itertools\n",
        "def plot_confusion_matrix(cm, classes,\n",
        "                          normalize=False,\n",
        "                          title='Confusion matrix',\n",
        "                          cmap=plt.cm.Blues):\n",
        "    \"\"\"\n",
        "    This function prints and plots the confusion matrix.\n",
        "    Normalization can be applied by setting `normalize=True`.\n",
        "    \"\"\"\n",
        "    if normalize:\n",
        "        cm = cm.astype('float') / cm.sum(axis=1)[:, np.newaxis]\n",
        "        print(\"Normalized confusion matrix\")\n",
        "    else:\n",
        "        print('Confusion matrix, without normalization')\n",
        "\n",
        "    plt.imshow(cm, interpolation='nearest', cmap=cmap)\n",
        "    plt.title(title)\n",
        "    plt.colorbar()\n",
        "    tick_marks = np.arange(len(classes))\n",
        "    plt.xticks(tick_marks, classes, rotation=45)\n",
        "    plt.yticks(tick_marks, classes)\n",
        "\n",
        "    fmt = '.2f' if normalize else 'd'\n",
        "    thresh = cm.max() / 2.\n",
        "    for i, j in itertools.product(range(cm.shape[0]), range(cm.shape[1])):\n",
        "        plt.text(j, i, format(cm[i, j], fmt),\n",
        "                 horizontalalignment=\"center\",\n",
        "                 color=\"white\" if cm[i, j] > thresh else \"black\")\n",
        "\n",
        "    plt.tight_layout()\n",
        "    plt.ylabel('True label')\n",
        "    plt.xlabel('Predicted label')\n",
        "\n",
        "# Compute confusion matrix\n",
        "cnf_matrix = confusion_matrix(test_labels.argmax(axis=1), y_pred.argmax(axis=1))\n",
        "np.set_printoptions(precision=2)\n",
        "\n",
        "# Plot non-normalized confusion matrix\n",
        "plt.figure(figsize=(10, 10))\n",
        "plot_confusion_matrix(cnf_matrix, classes=['A', 'N'],normalize=True,\n",
        "                      title='Confusion matrix, with normalization')\n",
        "plt.show()\n"
      ],
      "metadata": {
        "colab": {
          "base_uri": "https://localhost:8080/",
          "height": 747
        },
        "id": "Iw3dtNr1IizL",
        "outputId": "54bd07cf-ea30-42c9-aece-7478bb39ce17"
      },
      "execution_count": 90,
      "outputs": [
        {
          "output_type": "stream",
          "name": "stdout",
          "text": [
            "Normalized confusion matrix\n"
          ]
        },
        {
          "output_type": "display_data",
          "data": {
            "text/plain": [
              "<Figure size 720x720 with 2 Axes>"
            ],
            "image/png": "[encoded data removed]"
          },
          "metadata": {
            "needs_background": "light"
          }
        }
      ]
    },
    {
      "cell_type": "markdown",
      "source": [
        "## Model evaluation results\n",
        "### Arrythmia cases were classified with an accuracy of 77%\n",
        "### Normal cases were classified with an accuracy of 96%\n",
        "### False positive for Arrythmia cases at 23%"
      ],
      "metadata": {
        "id": "1mvNLWaQZ1G6"
      }
    },
    {
      "cell_type": "markdown",
      "source": [
        "## Imbalance present in the dataset"
      ],
      "metadata": {
        "id": "w69T_4noLYn_"
      }
    },
    {
      "cell_type": "code",
      "source": [
        "_,distribution = np.unique(np.argmax(training_labels,axis=1),return_counts=True)\n",
        "print(distribution)"
      ],
      "metadata": {
        "colab": {
          "base_uri": "https://localhost:8080/"
        },
        "id": "TuVuL5sKTAZx",
        "outputId": "647915ae-f3f3-409e-e6c7-98b4831e7e07"
      },
      "execution_count": 22,
      "outputs": [
        {
          "output_type": "stream",
          "name": "stdout",
          "text": [
            "[ 1691 11580]\n"
          ]
        }
      ]
    },
    {
      "cell_type": "code",
      "source": [
        "plt.figure(figsize=(20,10))\n",
        "my_circle=plt.Circle( (0,0), 0.7, color='white')\n",
        "plt.pie(distribution, labels=['A','N'], colors=['red','green'],autopct='%1.1f%%')\n",
        "p=plt.gcf()\n",
        "p.gca().add_artist(my_circle)\n",
        "plt.show()"
      ],
      "metadata": {
        "colab": {
          "base_uri": "https://localhost:8080/",
          "height": 575
        },
        "id": "TxF-8O75K96R",
        "outputId": "4ff1e49b-99e9-4ee3-bb10-2aca2a88e19d"
      },
      "execution_count": 23,
      "outputs": [
        {
          "output_type": "display_data",
          "data": {
            "text/plain": [
              "<Figure size 1440x720 with 1 Axes>"
            ],
            "image/png": "[encoded data removed]"
          },
          "metadata": {}
        }
      ]
    },
    {
      "cell_type": "markdown",
      "source": [
        "## Augmenting the minority class by either stretching or amplyfing the signal"
      ],
      "metadata": {
        "id": "5wU9LBmhMLdl"
      }
    },
    {
      "cell_type": "code",
      "source": [
        "import random\n",
        "from scipy.signal import resample"
      ],
      "metadata": {
        "id": "3lf73Pyua326"
      },
      "execution_count": 20,
      "outputs": []
    },
    {
      "cell_type": "code",
      "source": [
        "def stretch(x):\n",
        "    l = int(270 * (1 + (random.random()-0.5)/5))\n",
        "    y = resample(x, l)\n",
        "    if l < 270:\n",
        "        y_ = np.zeros(shape=(270, ))\n",
        "        y_[:l] = y\n",
        "    else:\n",
        "        y_ = y[:270]\n",
        "    return y_\n",
        "\n",
        "def amplify(x):\n",
        "    alpha = (random.random()-0.5)\n",
        "    normalized_x = (x-min(x))/(max(x)-min(x))\n",
        "\n",
        "    if(random.random()>=0.5):\n",
        "      factor = 1+alpha*(1-normalized_x)\n",
        "    else:\n",
        "      factor = 1+alpha*(normalized_x)\n",
        "    \n",
        "    for i in range(len(factor)):\n",
        "      factor[i] = max(factor[i],0.8)\n",
        "      factor[i] = min(factor[i],1.2)\n",
        "\n",
        "    return x*factor\n",
        "\n",
        "def augment(x,dup):\n",
        "    result = np.zeros(shape= (dup, 270))\n",
        "    for i in range(dup-1):\n",
        "        if random.random() < 0.33:\n",
        "            new_y = stretch(x)\n",
        "        elif random.random() < 0.66:\n",
        "            new_y = amplify(x)\n",
        "        else:\n",
        "            new_y = stretch(x)\n",
        "            new_y = amplify(new_y)\n",
        "        result[i, :] = new_y\n",
        "    return result"
      ],
      "metadata": {
        "id": "Zt5gz-ZtR0SH"
      },
      "execution_count": 41,
      "outputs": []
    },
    {
      "cell_type": "code",
      "source": [
        "training_set_N = []\n",
        "training_label_N = []\n",
        "training_set_A = []\n",
        "training_label_A = []\n",
        "\n",
        "for i in range(len(training_labels)):\n",
        "  if(training_labels[i][1]==0):\n",
        "    training_label_A.append(training_labels[i])\n",
        "    training_set_A.append(training_set[i])\n",
        "  else:\n",
        "    training_label_N.append(training_labels[i])\n",
        "    training_set_N.append(training_set[i])\n",
        "\n",
        "training_set_A = np.array(training_set_A)\n",
        "training_label_A = np.array(training_label_A)\n",
        "training_set_N = np.array(training_set_N)\n",
        "training_label_N = np.array(training_label_N)"
      ],
      "metadata": {
        "id": "Ci_l7aO6UxEa"
      },
      "execution_count": 52,
      "outputs": []
    },
    {
      "cell_type": "markdown",
      "source": [
        "#### Orange represents the augmented signal"
      ],
      "metadata": {
        "id": "PF3hWOQFMwjS"
      }
    },
    {
      "cell_type": "code",
      "source": [
        "plt.plot(training_set_N[10012])\n",
        "plt.plot(augment(training_set_N[10012],3)[0])\n",
        "plt.show()"
      ],
      "metadata": {
        "id": "j12tQqRNb3Sa",
        "outputId": "4ac7c00d-34d6-477a-fe3c-ba4311cce7e0",
        "colab": {
          "base_uri": "https://localhost:8080/",
          "height": 265
        }
      },
      "execution_count": 86,
      "outputs": [
        {
          "output_type": "display_data",
          "data": {
            "text/plain": [
              "<Figure size 432x288 with 1 Axes>"
            ],
            "image/png": "[encoded data removed]"
          },
          "metadata": {
            "needs_background": "light"
          }
        }
      ]
    },
    {
      "cell_type": "markdown",
      "source": [
        "## Miniority class upsampled upto 57494 datapoints"
      ],
      "metadata": {
        "id": "zamupVR9NQ4C"
      }
    },
    {
      "cell_type": "code",
      "source": [
        "result = np.apply_along_axis(augment, axis=1, arr=training_set_A, dup=33).reshape(-1, 270)\n",
        "training_set_A = np.vstack([training_set_A, result])\n",
        "training_label_A = np.vstack([training_label_A,np.tile([1,0],(result.shape[0],1))])"
      ],
      "metadata": {
        "id": "5ErZtz-0dyu8"
      },
      "execution_count": 54,
      "outputs": []
    },
    {
      "cell_type": "code",
      "source": [
        "print(training_set_A.shape)\n",
        "print(training_label_A.shape)"
      ],
      "metadata": {
        "id": "D8WZ4fT6dmN0",
        "outputId": "e3d65e9b-8f9a-4ad9-9d5e-50ff2c226671",
        "colab": {
          "base_uri": "https://localhost:8080/"
        }
      },
      "execution_count": 55,
      "outputs": [
        {
          "output_type": "stream",
          "name": "stdout",
          "text": [
            "(57494, 270)\n",
            "(57494, 2)\n"
          ]
        }
      ]
    },
    {
      "cell_type": "markdown",
      "source": [
        "## Majority class upsampled upto 57900 datapoints"
      ],
      "metadata": {
        "id": "PexmWp4mNg__"
      }
    },
    {
      "cell_type": "code",
      "source": [
        "result = np.apply_along_axis(augment, axis=1, arr=training_set_N,dup=4).reshape(-1, 270)\n",
        "training_set_N = np.vstack([training_set_N, result])\n",
        "training_label_N = np.vstack([training_label_N,np.tile([0,1],(result.shape[0],1))])"
      ],
      "metadata": {
        "id": "HkoPsMZEap51"
      },
      "execution_count": 56,
      "outputs": []
    },
    {
      "cell_type": "code",
      "source": [
        "print(training_set_N.shape)\n",
        "print(training_label_N.shape)"
      ],
      "metadata": {
        "id": "YMIuziRsmOco",
        "outputId": "892f9586-4616-41c5-d3a3-f42a554367fe",
        "colab": {
          "base_uri": "https://localhost:8080/"
        }
      },
      "execution_count": 57,
      "outputs": [
        {
          "output_type": "stream",
          "name": "stdout",
          "text": [
            "(57900, 270)\n",
            "(57900, 2)\n"
          ]
        }
      ]
    },
    {
      "cell_type": "markdown",
      "source": [
        "## Upsampled training set consists of 115394 datapoints"
      ],
      "metadata": {
        "id": "gVzDEqGPN7sd"
      }
    },
    {
      "cell_type": "code",
      "source": [
        "training_set_upsample = np.concatenate((training_set_N,training_set_A))\n",
        "training_label_upsample = np.concatenate((training_label_N,training_label_A))"
      ],
      "metadata": {
        "id": "aQW6q3cvfX_L"
      },
      "execution_count": 58,
      "outputs": []
    },
    {
      "cell_type": "code",
      "source": [
        "training_set_upsample.shape"
      ],
      "metadata": {
        "id": "L3r7q2k7onyA",
        "outputId": "ba354feb-d759-4fd7-dbb7-1014f63814cd",
        "colab": {
          "base_uri": "https://localhost:8080/"
        }
      },
      "execution_count": 59,
      "outputs": [
        {
          "output_type": "execute_result",
          "data": {
            "text/plain": [
              "(115394, 270)"
            ]
          },
          "metadata": {},
          "execution_count": 59
        }
      ]
    },
    {
      "cell_type": "markdown",
      "source": [
        "## Shuffling the upsampled training set"
      ],
      "metadata": {
        "id": "86QxtaY_ONWP"
      }
    },
    {
      "cell_type": "code",
      "source": [
        "from sklearn.utils import shuffle"
      ],
      "metadata": {
        "id": "7JJDOchPNspg"
      },
      "execution_count": 60,
      "outputs": []
    },
    {
      "cell_type": "code",
      "source": [
        "training_set_upsample, training_label_upsample = shuffle(training_set_upsample, training_label_upsample, random_state=0)"
      ],
      "metadata": {
        "id": "FjYuEom_LOYF"
      },
      "execution_count": 61,
      "outputs": []
    },
    {
      "cell_type": "markdown",
      "source": [
        "## Evaluation"
      ],
      "metadata": {
        "id": "-VyVnm4EOWJR"
      }
    },
    {
      "cell_type": "code",
      "source": [
        "model,history=network(training_set_upsample,training_label_upsample,validation_set,validation_labels)"
      ],
      "metadata": {
        "colab": {
          "base_uri": "https://localhost:8080/"
        },
        "id": "aPV6ZewKarWN",
        "outputId": "dab026ed-bdbe-43f9-d91e-5db2b853fdf0"
      },
      "execution_count": 81,
      "outputs": [
        {
          "output_type": "stream",
          "name": "stderr",
          "text": [
            "/usr/local/lib/python3.8/dist-packages/keras/optimizers/optimizer_v2/adam.py:110: UserWarning: The `lr` argument is deprecated, use `learning_rate` instead.\n",
            "  super(Adam, self).__init__(name, **kwargs)\n"
          ]
        },
        {
          "output_type": "stream",
          "name": "stdout",
          "text": [
            "\n",
            "Epoch 1: LearningRateScheduler setting learning rate to 0.001.\n",
            "Epoch 1/40\n",
            "3607/3607 [==============================] - 23s 6ms/step - loss: 0.2433 - accuracy: 0.9032 - val_loss: 0.1959 - val_accuracy: 0.9227 - lr: 0.0010\n",
            "\n",
            "Epoch 2: LearningRateScheduler setting learning rate to 0.001.\n",
            "Epoch 2/40\n",
            "3607/3607 [==============================] - 23s 6ms/step - loss: 0.1304 - accuracy: 0.9541 - val_loss: 0.2679 - val_accuracy: 0.9082 - lr: 0.0010\n",
            "\n",
            "Epoch 3: LearningRateScheduler setting learning rate to 0.001.\n",
            "Epoch 3/40\n",
            "3607/3607 [==============================] - 21s 6ms/step - loss: 0.0994 - accuracy: 0.9665 - val_loss: 0.1586 - val_accuracy: 0.9577 - lr: 0.0010\n",
            "\n",
            "Epoch 4: LearningRateScheduler setting learning rate to 0.001.\n",
            "Epoch 4/40\n",
            "3607/3607 [==============================] - 22s 6ms/step - loss: 0.0830 - accuracy: 0.9719 - val_loss: 0.1872 - val_accuracy: 0.9565 - lr: 0.0010\n",
            "\n",
            "Epoch 5: LearningRateScheduler setting learning rate to 0.001.\n",
            "Epoch 5/40\n",
            "3607/3607 [==============================] - 21s 6ms/step - loss: 0.0742 - accuracy: 0.9749 - val_loss: 0.1493 - val_accuracy: 0.9612 - lr: 0.0010\n",
            "\n",
            "Epoch 6: LearningRateScheduler setting learning rate to 0.001.\n",
            "Epoch 6/40\n",
            "3607/3607 [==============================] - 21s 6ms/step - loss: 0.0681 - accuracy: 0.9771 - val_loss: 0.2004 - val_accuracy: 0.9590 - lr: 0.0010\n",
            "\n",
            "Epoch 7: LearningRateScheduler setting learning rate to 0.0007630325103639752.\n",
            "Epoch 7/40\n",
            "3607/3607 [==============================] - 21s 6ms/step - loss: 0.0589 - accuracy: 0.9804 - val_loss: 0.2215 - val_accuracy: 0.9556 - lr: 7.6303e-04\n",
            "\n",
            "Epoch 8: LearningRateScheduler setting learning rate to 0.0005822185970456569.\n",
            "Epoch 8/40\n",
            "3607/3607 [==============================] - 21s 6ms/step - loss: 0.0529 - accuracy: 0.9823 - val_loss: 0.2486 - val_accuracy: 0.9569 - lr: 5.8222e-04\n",
            "\n",
            "Epoch 9: LearningRateScheduler setting learning rate to 0.00044425168176083583.\n",
            "Epoch 9/40\n",
            "3607/3607 [==============================] - 21s 6ms/step - loss: 0.0491 - accuracy: 0.9836 - val_loss: 0.2783 - val_accuracy: 0.9569 - lr: 4.4425e-04\n",
            "\n",
            "Epoch 10: LearningRateScheduler setting learning rate to 0.00033897846975237803.\n",
            "Epoch 10/40\n",
            "3607/3607 [==============================] - 22s 6ms/step - loss: 0.0479 - accuracy: 0.9841 - val_loss: 0.2596 - val_accuracy: 0.9616 - lr: 3.3898e-04\n",
            "\n",
            "Epoch 11: LearningRateScheduler setting learning rate to 0.0002586515908182488.\n",
            "Epoch 11/40\n",
            "3607/3607 [==============================] - 21s 6ms/step - loss: 0.0459 - accuracy: 0.9847 - val_loss: 0.3110 - val_accuracy: 0.9629 - lr: 2.5865e-04\n",
            "\n",
            "Epoch 12: LearningRateScheduler setting learning rate to 0.000197359563522286.\n",
            "Epoch 12/40\n",
            "3607/3607 [==============================] - 21s 6ms/step - loss: 0.0452 - accuracy: 0.9850 - val_loss: 0.3121 - val_accuracy: 0.9620 - lr: 1.9736e-04\n",
            "\n",
            "Epoch 13: LearningRateScheduler setting learning rate to 0.0001505917567777849.\n",
            "Epoch 13/40\n",
            "3607/3607 [==============================] - 21s 6ms/step - loss: 0.0451 - accuracy: 0.9850 - val_loss: 0.3000 - val_accuracy: 0.9637 - lr: 1.5059e-04\n",
            "\n",
            "Epoch 14: LearningRateScheduler setting learning rate to 0.00011490640379307293.\n",
            "Epoch 14/40\n",
            "3607/3607 [==============================] - 21s 6ms/step - loss: 0.0446 - accuracy: 0.9852 - val_loss: 0.3080 - val_accuracy: 0.9633 - lr: 1.1491e-04\n",
            "\n",
            "Epoch 15: LearningRateScheduler setting learning rate to 8.767731821962479e-05.\n",
            "Epoch 15/40\n",
            "3607/3607 [==============================] - 21s 6ms/step - loss: 0.0442 - accuracy: 0.9853 - val_loss: 0.3188 - val_accuracy: 0.9650 - lr: 8.7677e-05\n"
          ]
        }
      ]
    },
    {
      "cell_type": "markdown",
      "source": [
        "### Accuracy on test set: 95.17%"
      ],
      "metadata": {
        "id": "Ccg0xdWUXgiy"
      }
    },
    {
      "cell_type": "code",
      "source": [
        "evaluate_model(history,test_set,test_labels,model)\n",
        "y_pred=model.predict(test_set)"
      ],
      "metadata": {
        "colab": {
          "base_uri": "https://localhost:8080/",
          "height": 646
        },
        "id": "iPF7MFswqK9u",
        "outputId": "0b07e375-be98-4ff8-b77b-6806d9aa0609"
      },
      "execution_count": 82,
      "outputs": [
        {
          "output_type": "stream",
          "name": "stdout",
          "text": [
            "Accuracy: 95.17%\n",
            "<keras.callbacks.History object at 0x7fb6663f8670>\n"
          ]
        },
        {
          "output_type": "display_data",
          "data": {
            "text/plain": [
              "<Figure size 432x288 with 1 Axes>"
            ],
            "image/png": "[encoded data removed]"
          },
          "metadata": {
            "needs_background": "light"
          }
        },
        {
          "output_type": "display_data",
          "data": {
            "text/plain": [
              "<Figure size 432x288 with 1 Axes>"
            ],
            "image/png": "[encoded data removed]"
          },
          "metadata": {
            "needs_background": "light"
          }
        },
        {
          "output_type": "stream",
          "name": "stdout",
          "text": [
            "87/87 [==============================] - 0s 2ms/step\n",
            "87/87 [==============================] - 0s 2ms/step\n"
          ]
        }
      ]
    },
    {
      "cell_type": "markdown",
      "source": [
        "## Model evaluation results\n",
        "### Arrythmia cases were classified with an accuracy of 84%\n",
        "### Normal cases were classified with an accuracy of 97%\n",
        "### False positive for Arrythmia cases at 16%"
      ],
      "metadata": {
        "id": "ibJt4nVRXsuJ"
      }
    },
    {
      "cell_type": "code",
      "source": [
        "# Compute confusion matrix\n",
        "cnf_matrix = confusion_matrix(test_labels.argmax(axis=1), y_pred.argmax(axis=1))\n",
        "np.set_printoptions(precision=2)\n",
        "\n",
        "# Plot non-normalized confusion matrix\n",
        "plt.figure(figsize=(10, 10))\n",
        "plot_confusion_matrix(cnf_matrix, classes=['A', 'N'],normalize=True,\n",
        "                      title='Confusion matrix, with normalization')\n",
        "plt.show()\n"
      ],
      "metadata": {
        "colab": {
          "base_uri": "https://localhost:8080/",
          "height": 747
        },
        "id": "6d6dRb0SvrEc",
        "outputId": "2edb1ca4-cd57-4595-8f10-8dec8841c08c"
      },
      "execution_count": 83,
      "outputs": [
        {
          "output_type": "stream",
          "name": "stdout",
          "text": [
            "Normalized confusion matrix\n"
          ]
        },
        {
          "output_type": "display_data",
          "data": {
            "text/plain": [
              "<Figure size 720x720 with 2 Axes>"
            ],
            "image/png": "[encoded data removed]"
          },
          "metadata": {
            "needs_background": "light"
          }
        }
      ]
    },
    {
      "cell_type": "markdown",
      "source": [
        "## PCA for dimensonality reduction"
      ],
      "metadata": {
        "id": "UCxecUOjU6o-"
      }
    },
    {
      "cell_type": "code",
      "source": [
        "from sklearn.decomposition import PCA\n",
        "\n",
        "pca_270 = PCA(n_components=270)\n",
        "X_pca = pca_270.fit_transform(training_set)"
      ],
      "metadata": {
        "id": "MD6rbqCQU5vY"
      },
      "execution_count": 91,
      "outputs": []
    },
    {
      "cell_type": "markdown",
      "source": [
        "### As we can see almost all the features are not correlated and are neccessary for capturing the variability present in the dataset "
      ],
      "metadata": {
        "id": "CS9G6QazOzQI"
      }
    },
    {
      "cell_type": "code",
      "source": [
        "np.cumsum(pca_270.explained_variance_ratio_*100)"
      ],
      "metadata": {
        "id": "r7VWOy2JWXGT",
        "outputId": "acaded66-8498-461c-9c37-3f31ed17cb5c",
        "colab": {
          "base_uri": "https://localhost:8080/"
        }
      },
      "execution_count": 92,
      "outputs": [
        {
          "output_type": "execute_result",
          "data": {
            "text/plain": [
              "array([  3.37,   6.4 ,   9.25,  11.98,  14.61,  17.09,  19.55,  21.85,\n",
              "        24.06,  26.19,  28.26,  30.21,  32.08,  33.81,  35.38,  36.87,\n",
              "        38.23,  39.47,  40.59,  41.69,  42.62,  43.48,  44.31,  45.07,\n",
              "        45.79,  46.43,  47.04,  47.65,  48.23,  48.8 ,  49.35,  49.87,\n",
              "        50.38,  50.89,  51.39,  51.87,  52.34,  52.82,  53.28,  53.74,\n",
              "        54.19,  54.63,  55.07,  55.5 ,  55.92,  56.34,  56.75,  57.17,\n",
              "        57.58,  57.98,  58.37,  58.77,  59.16,  59.54,  59.92,  60.3 ,\n",
              "        60.67,  61.05,  61.41,  61.78,  62.14,  62.49,  62.84,  63.19,\n",
              "        63.54,  63.88,  64.22,  64.56,  64.89,  65.22,  65.55,  65.87,\n",
              "        66.18,  66.5 ,  66.81,  67.12,  67.42,  67.72,  68.01,  68.3 ,\n",
              "        68.59,  68.87,  69.15,  69.42,  69.69,  69.96,  70.23,  70.49,\n",
              "        70.74,  71.  ,  71.25,  71.5 ,  71.75,  72.  ,  72.25,  72.49,\n",
              "        72.73,  72.97,  73.2 ,  73.44,  73.67,  73.9 ,  74.13,  74.36,\n",
              "        74.59,  74.81,  75.04,  75.26,  75.48,  75.7 ,  75.91,  76.13,\n",
              "        76.35,  76.56,  76.77,  76.99,  77.2 ,  77.41,  77.62,  77.82,\n",
              "        78.03,  78.23,  78.44,  78.64,  78.85,  79.05,  79.25,  79.45,\n",
              "        79.65,  79.85,  80.05,  80.24,  80.44,  80.63,  80.83,  81.02,\n",
              "        81.21,  81.4 ,  81.6 ,  81.79,  81.97,  82.16,  82.35,  82.54,\n",
              "        82.72,  82.91,  83.09,  83.28,  83.46,  83.65,  83.83,  84.01,\n",
              "        84.19,  84.37,  84.55,  84.73,  84.9 ,  85.08,  85.26,  85.43,\n",
              "        85.61,  85.78,  85.96,  86.13,  86.3 ,  86.47,  86.64,  86.81,\n",
              "        86.98,  87.15,  87.32,  87.49,  87.65,  87.82,  87.99,  88.15,\n",
              "        88.32,  88.48,  88.64,  88.81,  88.97,  89.13,  89.29,  89.45,\n",
              "        89.61,  89.77,  89.92,  90.08,  90.24,  90.4 ,  90.55,  90.71,\n",
              "        90.86,  91.01,  91.17,  91.32,  91.47,  91.62,  91.77,  91.92,\n",
              "        92.07,  92.22,  92.37,  92.52,  92.66,  92.81,  92.95,  93.1 ,\n",
              "        93.24,  93.38,  93.53,  93.67,  93.81,  93.95,  94.09,  94.23,\n",
              "        94.37,  94.51,  94.64,  94.78,  94.91,  95.05,  95.18,  95.31,\n",
              "        95.44,  95.58,  95.7 ,  95.83,  95.96,  96.09,  96.21,  96.34,\n",
              "        96.47,  96.59,  96.71,  96.84,  96.96,  97.08,  97.2 ,  97.31,\n",
              "        97.43,  97.55,  97.66,  97.77,  97.89,  98.  ,  98.1 ,  98.21,\n",
              "        98.32,  98.42,  98.53,  98.63,  98.72,  98.82,  98.91,  99.  ,\n",
              "        99.09,  99.17,  99.26,  99.34,  99.42,  99.5 ,  99.58,  99.65,\n",
              "        99.72,  99.78,  99.85,  99.9 ,  99.95, 100.  ])"
            ]
          },
          "metadata": {},
          "execution_count": 92
        }
      ]
    },
    {
      "cell_type": "code",
      "source": [
        "plt.plot(np.cumsum(pca_270.explained_variance_ratio_*100))\n",
        "\n",
        "plt.xlabel(\"Number of components\")\n",
        "plt.ylabel(\"Explained variance %\")\n",
        "plt.show()"
      ],
      "metadata": {
        "id": "BPji6WjRW8C1",
        "outputId": "7caff132-a968-48a3-a377-b0a537dd2334",
        "colab": {
          "base_uri": "https://localhost:8080/",
          "height": 279
        }
      },
      "execution_count": 93,
      "outputs": [
        {
          "output_type": "display_data",
          "data": {
            "text/plain": [
              "<Figure size 432x288 with 1 Axes>"
            ],
            "image/png": "[encoded data removed]"
          },
          "metadata": {
            "needs_background": "light"
          }
        }
      ]
    },
    {
      "cell_type": "markdown",
      "source": [
        "### 222 out of a total 270 components are required to capture 95% of variance present in the dataset"
      ],
      "metadata": {
        "id": "8oCggh0XP_m9"
      }
    },
    {
      "cell_type": "code",
      "source": [
        "pca = PCA(n_components=0.95)\n",
        "training_set_pca = pca.fit_transform(training_set)\n",
        "validation_set_pca = pca.transform(validation_set)\n",
        "training_set_pca.shape"
      ],
      "metadata": {
        "id": "7RbOuAJWXgxX",
        "outputId": "cb16aa27-3343-4d79-d6d3-93b28d7a4a8a",
        "colab": {
          "base_uri": "https://localhost:8080/"
        }
      },
      "execution_count": 94,
      "outputs": [
        {
          "output_type": "execute_result",
          "data": {
            "text/plain": [
              "(13271, 222)"
            ]
          },
          "metadata": {},
          "execution_count": 94
        }
      ]
    },
    {
      "cell_type": "markdown",
      "source": [
        "### As we can see pca performs comparatively worse, this implies that features had non-linear relations which pca failed to capture in the lower dimension\n",
        "\n",
        "### TO-DO: Try NLDR algorithms like FastICA, autoencoders for non-linear dimensionality reduction"
      ],
      "metadata": {
        "id": "wSrhUDm5Qltg"
      }
    },
    {
      "cell_type": "code",
      "source": [
        "model,history=network(training_set_pca,training_labels,validation_set_pca,validation_labels)"
      ],
      "metadata": {
        "id": "Oj9pKg14YHMa",
        "outputId": "2b833a45-305d-4666-b3f9-8e7d0ec89b44",
        "colab": {
          "base_uri": "https://localhost:8080/"
        }
      },
      "execution_count": 95,
      "outputs": [
        {
          "output_type": "stream",
          "name": "stdout",
          "text": [
            "\n",
            "Epoch 1: LearningRateScheduler setting learning rate to 0.001.\n",
            "Epoch 1/40\n"
          ]
        },
        {
          "output_type": "stream",
          "name": "stderr",
          "text": [
            "/usr/local/lib/python3.8/dist-packages/keras/optimizers/optimizer_v2/adam.py:110: UserWarning: The `lr` argument is deprecated, use `learning_rate` instead.\n",
            "  super(Adam, self).__init__(name, **kwargs)\n"
          ]
        },
        {
          "output_type": "stream",
          "name": "stdout",
          "text": [
            "415/415 [==============================] - 5s 8ms/step - loss: 0.3823 - accuracy: 0.8714 - val_loss: 0.3650 - val_accuracy: 0.8741 - lr: 0.0010\n",
            "\n",
            "Epoch 2: LearningRateScheduler setting learning rate to 0.001.\n",
            "Epoch 2/40\n",
            "415/415 [==============================] - 3s 6ms/step - loss: 0.3401 - accuracy: 0.8759 - val_loss: 0.3598 - val_accuracy: 0.8703 - lr: 0.0010\n",
            "\n",
            "Epoch 3: LearningRateScheduler setting learning rate to 0.001.\n",
            "Epoch 3/40\n",
            "415/415 [==============================] - 3s 6ms/step - loss: 0.3087 - accuracy: 0.8848 - val_loss: 0.3620 - val_accuracy: 0.8749 - lr: 0.0010\n",
            "\n",
            "Epoch 4: LearningRateScheduler setting learning rate to 0.001.\n",
            "Epoch 4/40\n",
            "415/415 [==============================] - 3s 6ms/step - loss: 0.2776 - accuracy: 0.8957 - val_loss: 0.3905 - val_accuracy: 0.8596 - lr: 0.0010\n",
            "\n",
            "Epoch 5: LearningRateScheduler setting learning rate to 0.001.\n",
            "Epoch 5/40\n",
            "415/415 [==============================] - 3s 6ms/step - loss: 0.2396 - accuracy: 0.9078 - val_loss: 0.3943 - val_accuracy: 0.8609 - lr: 0.0010\n",
            "\n",
            "Epoch 6: LearningRateScheduler setting learning rate to 0.001.\n",
            "Epoch 6/40\n",
            "415/415 [==============================] - 3s 6ms/step - loss: 0.1904 - accuracy: 0.9258 - val_loss: 0.4946 - val_accuracy: 0.8562 - lr: 0.0010\n",
            "\n",
            "Epoch 7: LearningRateScheduler setting learning rate to 0.0007630325103639752.\n",
            "Epoch 7/40\n",
            "415/415 [==============================] - 3s 7ms/step - loss: 0.1177 - accuracy: 0.9566 - val_loss: 0.5860 - val_accuracy: 0.8485 - lr: 7.6303e-04\n",
            "\n",
            "Epoch 8: LearningRateScheduler setting learning rate to 0.0005822185970456569.\n",
            "Epoch 8/40\n",
            "415/415 [==============================] - 4s 9ms/step - loss: 0.0592 - accuracy: 0.9802 - val_loss: 0.7004 - val_accuracy: 0.8485 - lr: 5.8222e-04\n",
            "\n",
            "Epoch 9: LearningRateScheduler setting learning rate to 0.00044425168176083583.\n",
            "Epoch 9/40\n",
            "415/415 [==============================] - 3s 6ms/step - loss: 0.0258 - accuracy: 0.9922 - val_loss: 0.8302 - val_accuracy: 0.8476 - lr: 4.4425e-04\n",
            "\n",
            "Epoch 10: LearningRateScheduler setting learning rate to 0.00033897846975237803.\n",
            "Epoch 10/40\n",
            "415/415 [==============================] - 3s 6ms/step - loss: 0.0124 - accuracy: 0.9965 - val_loss: 0.8933 - val_accuracy: 0.8451 - lr: 3.3898e-04\n",
            "\n",
            "Epoch 11: LearningRateScheduler setting learning rate to 0.0002586515908182488.\n",
            "Epoch 11/40\n",
            "415/415 [==============================] - 3s 6ms/step - loss: 0.0072 - accuracy: 0.9986 - val_loss: 0.9697 - val_accuracy: 0.8459 - lr: 2.5865e-04\n",
            "\n",
            "Epoch 12: LearningRateScheduler setting learning rate to 0.000197359563522286.\n",
            "Epoch 12/40\n",
            "415/415 [==============================] - 3s 6ms/step - loss: 0.0053 - accuracy: 0.9989 - val_loss: 0.9785 - val_accuracy: 0.8455 - lr: 1.9736e-04\n"
          ]
        }
      ]
    }
  ]
}